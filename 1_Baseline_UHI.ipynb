{
 "cells": [
  {
   "cell_type": "markdown",
   "metadata": {},
   "source": [
    "# Introducing Dragonfly\n",
    "Dragonfly is the latest addition to the Ladybug Tools' bug ecosystem, it is python library for urban climate and energy modeling. This library can help us model an UHI by servin as an API layer on top of the Python [Urban Weather Generator (UWG) library](https://github.com/ladybug-tools/uwg) in a similar way to how Honeybee interracts with Radiance and Butterfly with OpenFoam. \n",
    "\n",
    "The UWG library, [originally written in Matlab](http://urbanmicroclimate.scripts.mit.edu/uwg.php), simulates the Urban Heat Island effect of an urban area at a district or neighborhood scale. Michael Street found in his [master's thesis](https://dspace.mit.edu/handle/1721.1/82284) that the size of an urban areas accurately characterized by the UWG was ~500 meters x 500 meters. Any larger and you will have urban subsets with different temperatures than the average. Any smaller, and the mixing of air of your simultated area with neighboring areas will probably dimminish the result of your simualtion.\n",
    "\n",
    "In the case study covered below we will use Dragonfly to calculate the impact of an Urban Heat Island on it's local climate. You can fork/clone the [tutorial repository](https://github.com/AntoineDao/lbt-dragonfly-tutorial) or if you are just wanting to try it out online why not give Binder a go? Look for the `Baseline_UHI.ipynb` file.\n",
    "\n",
    "[![Binder](https://mybinder.org/badge_logo.svg)](https://mybinder.org/v2/gh/AntoineDao/lbt-dragonfly-tutorial/master)\n",
    "\n",
    "In this example we will carry out the following tasks:\n",
    "\n",
    "1. Create Building Typology models\n",
    "2. Create an urban District model\n",
    "3. Run the UHI Simulation\n",
    "4. Compare the original EPW file with the new District EPW"
   ]
  },
  {
   "cell_type": "markdown",
   "metadata": {},
   "source": [
    "## 1. Building Typologies\n",
    "Dragonfly simulates district level urban areas. Rather than simulating all buildings seperately it uses the concept of a `typology`. We will be creating two typologies in this case study based on a neighborhood in Malaga called La Luz:\n",
    "* Residential Typology\n",
    "* Small Retail Typology\n",
    "\n",
    "\n",
    "The code snippet below covers how these typologies are created, if you want more info on all the attributes you can set for these I'd reccomend checking out the [documentation for this class](http://www.ladybug.tools/apidoc/dragonfly/dragonfly.html#module-dragonfly.typology). You will notice no geometry is actually used here. You can use building geometry when creating typologies from Rhino/Grasshopper and we will also cover how to do so from Open Street Map data and GeoJson in a later example.\n",
    "\n",
    "Let's first create our residential typology:"
   ]
  },
  {
   "cell_type": "code",
   "execution_count": 1,
   "metadata": {},
   "outputs": [
    {
     "data": {
      "text/plain": [
       "Building Typology: \n",
       "  MidRiseApartment, Pre1980s\n",
       "  Average Height: 24 m\n",
       "  Number of Stories: 8\n",
       "  Floor Area: 416,000 m2\n",
       "  Footprint Area: 52,000 m2\n",
       "  Facade Area: 221,000 m2\n",
       "  Glazing Ratio: 30 %"
      ]
     },
     "execution_count": 1,
     "metadata": {},
     "output_type": "execute_result"
    }
   ],
   "source": [
    "from dragonfly.typology import Typology\n",
    "\n",
    "# The average height of a single floor (in meters)\n",
    "floor_to_floor = 3.05\n",
    "\n",
    "# The average number of floors for residential buildings \n",
    "resi_average_floors = 8\n",
    "resi_average_height = floor_to_floor * resi_average_floors\n",
    "\n",
    "# The total footprint area of all residential buildings in the district (in square meters)\n",
    "resi_footprint_area = 52000\n",
    "\n",
    "# The total area of exposed facade (in square meters)\n",
    "resi_facade_area = 221000\n",
    "\n",
    "# The average glazing ratio of residential buildings \n",
    "resi_glazing_ratio = 0.3\n",
    "\n",
    "residential_typology = Typology(average_height=resi_average_height,\n",
    "                                footprint_area=resi_footprint_area,\n",
    "                                floor_to_floor=floor_to_floor,\n",
    "                                facade_area=resi_facade_area,\n",
    "                                glz_ratio=resi_glazing_ratio,\n",
    "                                bldg_program='MidRiseApartment', # one of the 16 DOE building program types \n",
    "                                bldg_era='Pre1980s' # used to determine what constructions make up the walls, roofs, and windows based on international building codes over the last several decades\n",
    "                               )\n",
    "\n",
    "residential_typology"
   ]
  },
  {
   "cell_type": "markdown",
   "metadata": {},
   "source": [
    "Not too bad. We can see the properties of the typology we have just created above. Next step if to create the small retail typology. This time we will do so without comments to save time and space as well as input the average height directly."
   ]
  },
  {
   "cell_type": "code",
   "execution_count": 2,
   "metadata": {},
   "outputs": [
    {
     "data": {
      "text/plain": [
       "Building Typology: \n",
       "  StandAloneRetail, Pre1980s\n",
       "  Average Height: 8 m\n",
       "  Number of Stories: 3\n",
       "  Floor Area: 6,768 m2\n",
       "  Footprint Area: 2,256 m2\n",
       "  Facade Area: 2,424 m2\n",
       "  Glazing Ratio: 40 %"
      ]
     },
     "execution_count": 2,
     "metadata": {},
     "output_type": "execute_result"
    }
   ],
   "source": [
    "retail_average_height = 8\n",
    "retail_footprint_area = 2256\n",
    "retail_facade_area = 2424\n",
    "retail_glazing_ratio = 0.4\n",
    "\n",
    "small_retail_typology = Typology(average_height=retail_average_height,\n",
    "                                 footprint_area=retail_footprint_area,\n",
    "                                 facade_area=retail_facade_area,\n",
    "                                 glz_ratio=retail_glazing_ratio,\n",
    "                                 bldg_program='StandAloneRetail',\n",
    "                                 bldg_era='Pre1980s'\n",
    "                                )\n",
    "\n",
    "small_retail_typology"
   ]
  },
  {
   "cell_type": "markdown",
   "metadata": {},
   "source": [
    "## 2. Dragonfly District Recipe\n",
    "Dragonfly models an urban area by creating a `district` object, which contains the typologies we have just created plus some information about the local climate zone, traffic and greenery.\n",
    "\n",
    "### Traffic Parameters\n",
    "The traffic heat emission rate and weekly schedule. We will leave the schedule values empty to set the defaults."
   ]
  },
  {
   "cell_type": "code",
   "execution_count": 3,
   "metadata": {},
   "outputs": [
    {
     "data": {
      "text/plain": [
       "Traffic Parameters: \n",
       "  Max Heat: 4 W/m2\n",
       "  Weekday Avg Heat: 2.1999999999999997 W/m2\n",
       "  Saturday Avg Heat: 1.7166666666666666 W/m2\n",
       "  Sunday Avg Heat: 1.316666666666667 W/m2"
      ]
     },
     "execution_count": 3,
     "metadata": {},
     "output_type": "execute_result"
    }
   ],
   "source": [
    "from dragonfly.uwg.districtpar import TrafficPar\n",
    "\n",
    "# The maximum sensible anthropogenic heat flux of the urban area in watts per square meter.\n",
    "traffic_heat = 4\n",
    "\n",
    "# Note that we leave the schedules blank, this will set the default schedule values for traffic\n",
    "traffic_parameters = TrafficPar(sensible_heat=traffic_heat,\n",
    "                                weekday_schedule=[],\n",
    "                                saturday_schedule=[],\n",
    "                                sunday_schedule=[])\n",
    "\n",
    "traffic_parameters"
   ]
  },
  {
   "cell_type": "markdown",
   "metadata": {},
   "source": [
    "### Pavement Parameters\n",
    "The makeup of pavement within the urban area. We will set all the values to `None` in order to create an object with the default values for pavements. "
   ]
  },
  {
   "cell_type": "code",
   "execution_count": 4,
   "metadata": {},
   "outputs": [
    {
     "data": {
      "text/plain": [
       "Pavement Parameters: \n",
       "  Albedo: 0.1\n",
       "  Thickness: 0.5\n",
       "  Conductivity: 1\n",
       "  Vol Heat Capacity: 1600000"
      ]
     },
     "execution_count": 4,
     "metadata": {},
     "output_type": "execute_result"
    }
   ],
   "source": [
    "from dragonfly.uwg.districtpar import PavementPar\n",
    "\n",
    "# We will leave all these values as None which will set the default values for each\n",
    "pav_albedo = None\n",
    "pav_thickness = None\n",
    "pav_conductivity = None\n",
    "pav_volumetric_heat_capacity = None\n",
    "\n",
    "pavement_parameters = PavementPar(albedo=pav_albedo,\n",
    "                                  thickness=pav_thickness,\n",
    "                                  conductivity=pav_conductivity,\n",
    "                                  volumetric_heat_capacity=pav_volumetric_heat_capacity)\n",
    "\n",
    "# Note: we can declare the pavement parameter object like this also as we are using default values\n",
    "pavement_parameters = PavementPar()\n",
    "\n",
    "pavement_parameters"
   ]
  },
  {
   "cell_type": "markdown",
   "metadata": {},
   "source": [
    "### Vegetation Parameters\n",
    "The behaviour of vegetation within an urban area. \n"
   ]
  },
  {
   "cell_type": "code",
   "execution_count": 5,
   "metadata": {},
   "outputs": [
    {
     "data": {
      "text/plain": [
       "Vegetation Parameters: \n",
       "  Albedo: 0.25\n",
       "  Vegetation Time: Apr - Nov\n",
       "  Tree | Grass Latent: 0.7 | 0.5"
      ]
     },
     "execution_count": 5,
     "metadata": {},
     "output_type": "execute_result"
    }
   ],
   "source": [
    "from dragonfly.uwg.districtpar import VegetationPar\n",
    "\n",
    "# The average albedo of grass and trees\n",
    "vegetation_albedo=0.25\n",
    "# The month of the year where leaves grow on trees (1-12)\n",
    "vegetation_start_month=4\n",
    "# The month of the year where leaves fall from trees\n",
    "vegetation_end_month=11\n",
    "# The fraction of absorbed solar energy by trees that is given off as latent heat (evapotranspiration)\n",
    "tree_latent_fraction=0.7\n",
    "# Same as above but for grass\n",
    "grass_latent_fraction=0.5\n",
    "\n",
    "vegetation_parameters = VegetationPar(vegetation_albedo=vegetation_albedo,\n",
    "                                      vegetation_start_month=vegetation_start_month,\n",
    "                                      vegetation_end_month=vegetation_end_month,\n",
    "                                      tree_latent_fraction=tree_latent_fraction,\n",
    "                                      grass_latent_fraction=grass_latent_fraction)\n",
    "\n",
    "vegetation_parameters"
   ]
  },
  {
   "cell_type": "markdown",
   "metadata": {},
   "source": [
    "### Making a District\n",
    "Now that we have set up our typologies and district level parameters we can combine them all together and create a district object. We still need to set a few variables before creating the district:\n",
    "* Site Area: The total area of the site modelled\n",
    "* Climate Zone: The ASHRAE climate zone. This is used to set default constructions.\n",
    "* Tree coverage ratio: The fraction of the urban area (including both pavement and roofs) that is covered by trees. \n",
    "* Grass coverage ratio: The fraction of the urban area (including both pavement and roofs) that is covered by grass/vegetation.\n",
    "\n",
    "You will notice that some new values appear when we return the district:\n",
    "* Site coverage ratio\n",
    "* Building typologies split by percentage of the total built area they represent"
   ]
  },
  {
   "cell_type": "code",
   "execution_count": 6,
   "metadata": {},
   "outputs": [
    {
     "data": {
      "text/plain": [
       "District: \n",
       "  Average Bldg Height: 23 m\n",
       "  Site Coverage Ratio: 0.34\n",
       "  Facade-to-Site Ratio: 1.4\n",
       "  Tree Coverage Ratio: 0\n",
       "  Grass Coverage Ratio: 0\n",
       "  ------------------------\n",
       "  Building Typologies:\n",
       "     0.98 - MidRiseApartment,Pre1980s\n",
       "     0.02 - StandAloneRetail,Pre1980s"
      ]
     },
     "execution_count": 6,
     "metadata": {},
     "output_type": "execute_result"
    }
   ],
   "source": [
    "from dragonfly.district import District\n",
    "\n",
    "site_area = 160000\n",
    "\n",
    "climate_zone = '3A'\n",
    "\n",
    "tree_coverage_ratio = 0\n",
    "grass_coverage_ratio = 0\n",
    "\n",
    "district = District(site_area=site_area,\n",
    "                    climate_zone=climate_zone,\n",
    "                    tree_coverage_ratio=tree_coverage_ratio,\n",
    "                    grass_coverage_ratio=grass_coverage_ratio,\n",
    "                    building_typologies=[residential_typology, small_retail_typology],\n",
    "                    traffic_parameters=traffic_parameters, \n",
    "                    pavement_parameters=pavement_parameters,\n",
    "                    vegetation_parameters=vegetation_parameters)\n",
    "\n",
    "district"
   ]
  },
  {
   "cell_type": "markdown",
   "metadata": {},
   "source": [
    "![we haz district!](img/icanhazdistrict.jpg)"
   ]
  },
  {
   "cell_type": "markdown",
   "metadata": {},
   "source": [
    "## 3. Running an UHI Simulation\n",
    "Right, we now have an urban district model to run an UHI simulation with. In order to run the simulation we will need an EPW. We will also set some parameters for the original EPW file to provide some extra context to the UWG engine.\n",
    "\n",
    "### Reference EPW Site Parameters\n",
    "The Reference EPW Site Parameters refer to the context of the original EPW site and how the different measurements were taken. Values that we leave blank will be defaulted."
   ]
  },
  {
   "cell_type": "code",
   "execution_count": 7,
   "metadata": {},
   "outputs": [
    {
     "data": {
      "text/plain": [
       "Reference EPW Site Parameters:\n",
       "  Obstacle Height: 0.1 m\n",
       "  Vegetation Coverage: 0.7\n",
       "  Measurement Height (Temp | Wind): 10 m | 10 m"
      ]
     },
     "execution_count": 7,
     "metadata": {},
     "output_type": "execute_result"
    }
   ],
   "source": [
    "from dragonfly.uwg.regionpar import RefEPWSitePar\n",
    "\n",
    "# We set the reference epw site parameters with the information we know about site\n",
    "# In this case we only know that the vegetation covers roughly 70% of the measurement site\n",
    "ref_epw_site_par = RefEPWSitePar(average_obstacle_height=None,\n",
    "                                 vegetation_coverage=0.7,\n",
    "                                 temp_measure_height=None,\n",
    "                                 wind_measure_height=None)\n",
    "\n",
    "ref_epw_site_par"
   ]
  },
  {
   "cell_type": "markdown",
   "metadata": {},
   "source": [
    "### Create the Run Manager\n",
    "The run manager object combines all the model objects and parameters into one object ready to be run. "
   ]
  },
  {
   "cell_type": "code",
   "execution_count": 8,
   "metadata": {},
   "outputs": [
    {
     "data": {
      "text/plain": [
       "UWG RunManager: \n",
       " Rural EPW: data/ESP_MALAGA-AP_084820_IW2.epw\n",
       " Analysis Period: 1/1 to 12/31 between 0 to 23 @1\n",
       " District: District: \n",
       "  Average Bldg Height: 23 m\n",
       "  Site Coverage Ratio: 0.34\n",
       "  Facade-to-Site Ratio: 1.4\n",
       "  Tree Coverage Ratio: 0\n",
       "  Grass Coverage Ratio: 0\n",
       "  ------------------------\n",
       "  Building Typologies:\n",
       "     0.98 - MidRiseApartment,Pre1980s\n",
       "     0.02 - StandAloneRetail,Pre1980s"
      ]
     },
     "execution_count": 8,
     "metadata": {},
     "output_type": "execute_result"
    }
   ],
   "source": [
    "from dragonfly.uwg.run import RunManager\n",
    "\n",
    "epw_file='data/ESP_MALAGA-AP_084820_IW2.epw'\n",
    "\n",
    "rm = RunManager(epw_file=epw_file,\n",
    "                district=district,\n",
    "               epw_site_par=ref_epw_site_par)\n",
    "rm"
   ]
  },
  {
   "cell_type": "markdown",
   "metadata": {},
   "source": [
    "## 3. Run the Simulation\n",
    "All we have left to do is run the simulation. The output of an UWG simulation is a morphed EPW file, by default this file has the same name as the original EPW with an `_URBAN` at the end of it. Because we are saving the file to a different folder we will name it manually.\n",
    "\n",
    "The simulation will take roughly 1-3 minutes to complete."
   ]
  },
  {
   "cell_type": "code",
   "execution_count": 9,
   "metadata": {},
   "outputs": [
    {
     "name": "stdout",
     "output_type": "stream",
     "text": [
      "\n",
      "Simulating new temperature and humidity values for 365 days from 1/1.\n",
      "\n",
      "New climate file 'ESP_MALAGA-AP_084820_IW2_URBAN.epw' is generated at data.\n"
     ]
    },
    {
     "data": {
      "text/plain": [
       "'data/ESP_MALAGA-AP_084820_IW2_URBAN.epw'"
      ]
     },
     "execution_count": 9,
     "metadata": {},
     "output_type": "execute_result"
    }
   ],
   "source": [
    "urban_epw_file = 'data/ESP_MALAGA-AP_084820_IW2_URBAN.epw'\n",
    "\n",
    "rm.run(urban_epw_file)"
   ]
  },
  {
   "cell_type": "markdown",
   "metadata": {},
   "source": [
    "Neat! We now have a new morphed EPW sitting in our `data` folder waiting to be analysed. "
   ]
  },
  {
   "cell_type": "markdown",
   "metadata": {},
   "source": [
    "## 4. Results Analysis\n",
    "\n",
    "Now that we have an urban EPW to compare to our original EPW we can run some data analysis. To keep this first tutorial short we will simply look at the differences between the two weather files. We can later build upon this to measure energy and comfort impacts.\n",
    "\n",
    "To run our comparison we will load the two EPW files into dataframes: `df_original` for the original EPW and `df_urban` for the EPW generated by our simulation. We will then create another dataframe called `diff` which will be the result of `df_urban` - `df_original`. Any positive value will therefore show an increase over the original EPW.\n",
    "\n",
    "### EPW as a DataFrame\n",
    "We first load our dependencies and an EPW import utility function `epw_to_df`. The EPW import code is saved in the `lib` file of the code's repository, do check it out if you want to see how to load an EPW file into a dataframe using `pandas`."
   ]
  },
  {
   "cell_type": "code",
   "execution_count": 10,
   "metadata": {},
   "outputs": [],
   "source": [
    "import pandas as pd\n",
    "import datetime\n",
    "import matplotlib.pyplot as plt\n",
    "import seaborn as sns\n",
    "\n",
    "from lib.epw_utils import *\n",
    "\n",
    "%matplotlib inline"
   ]
  },
  {
   "cell_type": "markdown",
   "metadata": {},
   "source": [
    "First we import the original epw."
   ]
  },
  {
   "cell_type": "code",
   "execution_count": 11,
   "metadata": {},
   "outputs": [
    {
     "data": {
      "text/html": [
       "<div>\n",
       "<style>\n",
       "    .dataframe thead tr:only-child th {\n",
       "        text-align: right;\n",
       "    }\n",
       "\n",
       "    .dataframe thead th {\n",
       "        text-align: left;\n",
       "    }\n",
       "\n",
       "    .dataframe tbody tr th {\n",
       "        vertical-align: top;\n",
       "    }\n",
       "</style>\n",
       "<table border=\"1\" class=\"dataframe\">\n",
       "  <thead>\n",
       "    <tr style=\"text-align: right;\">\n",
       "      <th></th>\n",
       "      <th>Index</th>\n",
       "      <th>Year</th>\n",
       "      <th>Month</th>\n",
       "      <th>Day</th>\n",
       "      <th>Hour</th>\n",
       "      <th>Minute</th>\n",
       "      <th>Remove</th>\n",
       "      <th>Dry_Bulb_Temperature</th>\n",
       "      <th>Dew_Point_Temperature</th>\n",
       "      <th>Relative_Humidity</th>\n",
       "      <th>...</th>\n",
       "      <th>Present_Weather_Codes</th>\n",
       "      <th>Precipitable_Water</th>\n",
       "      <th>Aerosol_Optical_Depth</th>\n",
       "      <th>Snow_Depth</th>\n",
       "      <th>Days_Since_Last_Snowfall</th>\n",
       "      <th>Albedo</th>\n",
       "      <th>Liquid_Precipitation_Depth</th>\n",
       "      <th>Liquid_Precipitation_Quantity</th>\n",
       "      <th>datetime</th>\n",
       "      <th>doy</th>\n",
       "    </tr>\n",
       "  </thead>\n",
       "  <tbody>\n",
       "    <tr>\n",
       "      <th>0</th>\n",
       "      <td>0</td>\n",
       "      <td>2001</td>\n",
       "      <td>1</td>\n",
       "      <td>1</td>\n",
       "      <td>1</td>\n",
       "      <td>0</td>\n",
       "      <td>?9?9?9?9E0?9?9?9?9*9?9?9?9?9?9?9?9?9?9*_*9*9*9...</td>\n",
       "      <td>11.6</td>\n",
       "      <td>10.7</td>\n",
       "      <td>94</td>\n",
       "      <td>...</td>\n",
       "      <td>999999999</td>\n",
       "      <td>200</td>\n",
       "      <td>0.0</td>\n",
       "      <td>0</td>\n",
       "      <td>88</td>\n",
       "      <td>999.0</td>\n",
       "      <td>0.0</td>\n",
       "      <td>1.0</td>\n",
       "      <td>2017-01-01 00:00:00</td>\n",
       "      <td>1</td>\n",
       "    </tr>\n",
       "    <tr>\n",
       "      <th>1</th>\n",
       "      <td>1</td>\n",
       "      <td>2001</td>\n",
       "      <td>1</td>\n",
       "      <td>1</td>\n",
       "      <td>2</td>\n",
       "      <td>0</td>\n",
       "      <td>?9?9?9?9E0?9?9?9?9*9?9?9?9?9?9?9?9?9?9*_*9*9*9...</td>\n",
       "      <td>8.9</td>\n",
       "      <td>7.4</td>\n",
       "      <td>90</td>\n",
       "      <td>...</td>\n",
       "      <td>999999999</td>\n",
       "      <td>160</td>\n",
       "      <td>0.0</td>\n",
       "      <td>0</td>\n",
       "      <td>88</td>\n",
       "      <td>999.0</td>\n",
       "      <td>0.0</td>\n",
       "      <td>1.0</td>\n",
       "      <td>2017-01-01 01:00:00</td>\n",
       "      <td>1</td>\n",
       "    </tr>\n",
       "    <tr>\n",
       "      <th>2</th>\n",
       "      <td>2</td>\n",
       "      <td>2001</td>\n",
       "      <td>1</td>\n",
       "      <td>1</td>\n",
       "      <td>3</td>\n",
       "      <td>0</td>\n",
       "      <td>?9?9?9?9E0?9?9?9?9*9?9?9?9?9?9?9?9?9?9*_*9*9*9...</td>\n",
       "      <td>7.0</td>\n",
       "      <td>6.0</td>\n",
       "      <td>93</td>\n",
       "      <td>...</td>\n",
       "      <td>999999999</td>\n",
       "      <td>139</td>\n",
       "      <td>0.0</td>\n",
       "      <td>0</td>\n",
       "      <td>88</td>\n",
       "      <td>999.0</td>\n",
       "      <td>0.0</td>\n",
       "      <td>1.0</td>\n",
       "      <td>2017-01-01 02:00:00</td>\n",
       "      <td>1</td>\n",
       "    </tr>\n",
       "    <tr>\n",
       "      <th>3</th>\n",
       "      <td>3</td>\n",
       "      <td>2001</td>\n",
       "      <td>1</td>\n",
       "      <td>1</td>\n",
       "      <td>4</td>\n",
       "      <td>0</td>\n",
       "      <td>?9?9?9?9E0?9?9?9?9*9?9?9?9?9?9?9?9?9?9*_*9*9*9...</td>\n",
       "      <td>9.8</td>\n",
       "      <td>8.6</td>\n",
       "      <td>92</td>\n",
       "      <td>...</td>\n",
       "      <td>999999999</td>\n",
       "      <td>170</td>\n",
       "      <td>0.0</td>\n",
       "      <td>0</td>\n",
       "      <td>88</td>\n",
       "      <td>999.0</td>\n",
       "      <td>0.0</td>\n",
       "      <td>1.0</td>\n",
       "      <td>2017-01-01 03:00:00</td>\n",
       "      <td>1</td>\n",
       "    </tr>\n",
       "    <tr>\n",
       "      <th>4</th>\n",
       "      <td>4</td>\n",
       "      <td>2001</td>\n",
       "      <td>1</td>\n",
       "      <td>1</td>\n",
       "      <td>5</td>\n",
       "      <td>0</td>\n",
       "      <td>?9?9?9?9E0?9?9?9?9*9?9?9?9?9?9?9?9?9?9*_*9*9*9...</td>\n",
       "      <td>7.0</td>\n",
       "      <td>6.0</td>\n",
       "      <td>93</td>\n",
       "      <td>...</td>\n",
       "      <td>999999999</td>\n",
       "      <td>139</td>\n",
       "      <td>0.0</td>\n",
       "      <td>0</td>\n",
       "      <td>88</td>\n",
       "      <td>999.0</td>\n",
       "      <td>0.0</td>\n",
       "      <td>1.0</td>\n",
       "      <td>2017-01-01 04:00:00</td>\n",
       "      <td>1</td>\n",
       "    </tr>\n",
       "  </tbody>\n",
       "</table>\n",
       "<p>5 rows × 38 columns</p>\n",
       "</div>"
      ],
      "text/plain": [
       "   Index  Year  Month  Day  Hour  Minute  \\\n",
       "0      0  2001      1    1     1       0   \n",
       "1      1  2001      1    1     2       0   \n",
       "2      2  2001      1    1     3       0   \n",
       "3      3  2001      1    1     4       0   \n",
       "4      4  2001      1    1     5       0   \n",
       "\n",
       "                                              Remove  Dry_Bulb_Temperature  \\\n",
       "0  ?9?9?9?9E0?9?9?9?9*9?9?9?9?9?9?9?9?9?9*_*9*9*9...                  11.6   \n",
       "1  ?9?9?9?9E0?9?9?9?9*9?9?9?9?9?9?9?9?9?9*_*9*9*9...                   8.9   \n",
       "2  ?9?9?9?9E0?9?9?9?9*9?9?9?9?9?9?9?9?9?9*_*9*9*9...                   7.0   \n",
       "3  ?9?9?9?9E0?9?9?9?9*9?9?9?9?9?9?9?9?9?9*_*9*9*9...                   9.8   \n",
       "4  ?9?9?9?9E0?9?9?9?9*9?9?9?9?9?9?9?9?9?9*_*9*9*9...                   7.0   \n",
       "\n",
       "   Dew_Point_Temperature  Relative_Humidity ...   Present_Weather_Codes  \\\n",
       "0                   10.7                 94 ...               999999999   \n",
       "1                    7.4                 90 ...               999999999   \n",
       "2                    6.0                 93 ...               999999999   \n",
       "3                    8.6                 92 ...               999999999   \n",
       "4                    6.0                 93 ...               999999999   \n",
       "\n",
       "   Precipitable_Water  Aerosol_Optical_Depth  Snow_Depth  \\\n",
       "0                 200                    0.0           0   \n",
       "1                 160                    0.0           0   \n",
       "2                 139                    0.0           0   \n",
       "3                 170                    0.0           0   \n",
       "4                 139                    0.0           0   \n",
       "\n",
       "   Days_Since_Last_Snowfall  Albedo  Liquid_Precipitation_Depth  \\\n",
       "0                        88   999.0                         0.0   \n",
       "1                        88   999.0                         0.0   \n",
       "2                        88   999.0                         0.0   \n",
       "3                        88   999.0                         0.0   \n",
       "4                        88   999.0                         0.0   \n",
       "\n",
       "   Liquid_Precipitation_Quantity            datetime  doy  \n",
       "0                            1.0 2017-01-01 00:00:00    1  \n",
       "1                            1.0 2017-01-01 01:00:00    1  \n",
       "2                            1.0 2017-01-01 02:00:00    1  \n",
       "3                            1.0 2017-01-01 03:00:00    1  \n",
       "4                            1.0 2017-01-01 04:00:00    1  \n",
       "\n",
       "[5 rows x 38 columns]"
      ]
     },
     "execution_count": 11,
     "metadata": {},
     "output_type": "execute_result"
    }
   ],
   "source": [
    "# Create a DataFrame from the original EPW file\n",
    "df_original = epw_to_df(epw_file)\n",
    "\n",
    "# Add a python datetime column for easier timeseries analysis\n",
    "df_original['datetime'] = df_original.apply(lambda row: get_datetime(row), axis=1)\n",
    "\n",
    "# Add a Day of Year column to facilitate heatmap plotting\n",
    "df_original['doy'] = df_original.apply(lambda row: get_doy(row), axis=1)\n",
    "\n",
    "df_original.head()"
   ]
  },
  {
   "cell_type": "markdown",
   "metadata": {},
   "source": [
    "Then we import the urban EPW generated by the simulation."
   ]
  },
  {
   "cell_type": "code",
   "execution_count": 12,
   "metadata": {},
   "outputs": [
    {
     "data": {
      "text/html": [
       "<div>\n",
       "<style>\n",
       "    .dataframe thead tr:only-child th {\n",
       "        text-align: right;\n",
       "    }\n",
       "\n",
       "    .dataframe thead th {\n",
       "        text-align: left;\n",
       "    }\n",
       "\n",
       "    .dataframe tbody tr th {\n",
       "        vertical-align: top;\n",
       "    }\n",
       "</style>\n",
       "<table border=\"1\" class=\"dataframe\">\n",
       "  <thead>\n",
       "    <tr style=\"text-align: right;\">\n",
       "      <th></th>\n",
       "      <th>Index</th>\n",
       "      <th>Year</th>\n",
       "      <th>Month</th>\n",
       "      <th>Day</th>\n",
       "      <th>Hour</th>\n",
       "      <th>Minute</th>\n",
       "      <th>Remove</th>\n",
       "      <th>Dry_Bulb_Temperature</th>\n",
       "      <th>Dew_Point_Temperature</th>\n",
       "      <th>Relative_Humidity</th>\n",
       "      <th>...</th>\n",
       "      <th>Present_Weather_Codes</th>\n",
       "      <th>Precipitable_Water</th>\n",
       "      <th>Aerosol_Optical_Depth</th>\n",
       "      <th>Snow_Depth</th>\n",
       "      <th>Days_Since_Last_Snowfall</th>\n",
       "      <th>Albedo</th>\n",
       "      <th>Liquid_Precipitation_Depth</th>\n",
       "      <th>Liquid_Precipitation_Quantity</th>\n",
       "      <th>datetime</th>\n",
       "      <th>doy</th>\n",
       "    </tr>\n",
       "  </thead>\n",
       "  <tbody>\n",
       "    <tr>\n",
       "      <th>0</th>\n",
       "      <td>0</td>\n",
       "      <td>2001</td>\n",
       "      <td>1</td>\n",
       "      <td>1</td>\n",
       "      <td>1</td>\n",
       "      <td>0</td>\n",
       "      <td>?9?9?9?9E0?9?9?9?9*9?9?9?9?9?9?9?9?9?9*_*9*9*9...</td>\n",
       "      <td>11.8</td>\n",
       "      <td>10.7</td>\n",
       "      <td>92.6</td>\n",
       "      <td>...</td>\n",
       "      <td>999999999</td>\n",
       "      <td>200</td>\n",
       "      <td>0.0</td>\n",
       "      <td>0</td>\n",
       "      <td>88</td>\n",
       "      <td>999.0</td>\n",
       "      <td>0.0</td>\n",
       "      <td>0.0</td>\n",
       "      <td>2017-01-01 00:00:00</td>\n",
       "      <td>1</td>\n",
       "    </tr>\n",
       "    <tr>\n",
       "      <th>1</th>\n",
       "      <td>1</td>\n",
       "      <td>2001</td>\n",
       "      <td>1</td>\n",
       "      <td>1</td>\n",
       "      <td>2</td>\n",
       "      <td>0</td>\n",
       "      <td>?9?9?9?9E0?9?9?9?9*9?9?9?9?9?9?9?9?9?9*_*9*9*9...</td>\n",
       "      <td>11.4</td>\n",
       "      <td>7.4</td>\n",
       "      <td>76.1</td>\n",
       "      <td>...</td>\n",
       "      <td>999999999</td>\n",
       "      <td>160</td>\n",
       "      <td>0.0</td>\n",
       "      <td>0</td>\n",
       "      <td>88</td>\n",
       "      <td>999.0</td>\n",
       "      <td>0.0</td>\n",
       "      <td>0.0</td>\n",
       "      <td>2017-01-01 01:00:00</td>\n",
       "      <td>1</td>\n",
       "    </tr>\n",
       "    <tr>\n",
       "      <th>2</th>\n",
       "      <td>2</td>\n",
       "      <td>2001</td>\n",
       "      <td>1</td>\n",
       "      <td>1</td>\n",
       "      <td>3</td>\n",
       "      <td>0</td>\n",
       "      <td>?9?9?9?9E0?9?9?9?9*9?9?9?9?9?9?9?9?9?9*_*9*9*9...</td>\n",
       "      <td>10.5</td>\n",
       "      <td>6.0</td>\n",
       "      <td>73.3</td>\n",
       "      <td>...</td>\n",
       "      <td>999999999</td>\n",
       "      <td>139</td>\n",
       "      <td>0.0</td>\n",
       "      <td>0</td>\n",
       "      <td>88</td>\n",
       "      <td>999.0</td>\n",
       "      <td>0.0</td>\n",
       "      <td>0.0</td>\n",
       "      <td>2017-01-01 02:00:00</td>\n",
       "      <td>1</td>\n",
       "    </tr>\n",
       "    <tr>\n",
       "      <th>3</th>\n",
       "      <td>3</td>\n",
       "      <td>2001</td>\n",
       "      <td>1</td>\n",
       "      <td>1</td>\n",
       "      <td>4</td>\n",
       "      <td>0</td>\n",
       "      <td>?9?9?9?9E0?9?9?9?9*9?9?9?9?9?9?9?9?9?9*_*9*9*9...</td>\n",
       "      <td>10.1</td>\n",
       "      <td>8.6</td>\n",
       "      <td>90.3</td>\n",
       "      <td>...</td>\n",
       "      <td>999999999</td>\n",
       "      <td>170</td>\n",
       "      <td>0.0</td>\n",
       "      <td>0</td>\n",
       "      <td>88</td>\n",
       "      <td>999.0</td>\n",
       "      <td>0.0</td>\n",
       "      <td>0.0</td>\n",
       "      <td>2017-01-01 03:00:00</td>\n",
       "      <td>1</td>\n",
       "    </tr>\n",
       "    <tr>\n",
       "      <th>4</th>\n",
       "      <td>4</td>\n",
       "      <td>2001</td>\n",
       "      <td>1</td>\n",
       "      <td>1</td>\n",
       "      <td>5</td>\n",
       "      <td>0</td>\n",
       "      <td>?9?9?9?9E0?9?9?9?9*9?9?9?9?9?9?9?9?9?9*_*9*9*9...</td>\n",
       "      <td>9.4</td>\n",
       "      <td>6.0</td>\n",
       "      <td>79.2</td>\n",
       "      <td>...</td>\n",
       "      <td>999999999</td>\n",
       "      <td>139</td>\n",
       "      <td>0.0</td>\n",
       "      <td>0</td>\n",
       "      <td>88</td>\n",
       "      <td>999.0</td>\n",
       "      <td>0.0</td>\n",
       "      <td>0.0</td>\n",
       "      <td>2017-01-01 04:00:00</td>\n",
       "      <td>1</td>\n",
       "    </tr>\n",
       "  </tbody>\n",
       "</table>\n",
       "<p>5 rows × 38 columns</p>\n",
       "</div>"
      ],
      "text/plain": [
       "   Index  Year  Month  Day  Hour  Minute  \\\n",
       "0      0  2001      1    1     1       0   \n",
       "1      1  2001      1    1     2       0   \n",
       "2      2  2001      1    1     3       0   \n",
       "3      3  2001      1    1     4       0   \n",
       "4      4  2001      1    1     5       0   \n",
       "\n",
       "                                              Remove  Dry_Bulb_Temperature  \\\n",
       "0  ?9?9?9?9E0?9?9?9?9*9?9?9?9?9?9?9?9?9?9*_*9*9*9...                  11.8   \n",
       "1  ?9?9?9?9E0?9?9?9?9*9?9?9?9?9?9?9?9?9?9*_*9*9*9...                  11.4   \n",
       "2  ?9?9?9?9E0?9?9?9?9*9?9?9?9?9?9?9?9?9?9*_*9*9*9...                  10.5   \n",
       "3  ?9?9?9?9E0?9?9?9?9*9?9?9?9?9?9?9?9?9?9*_*9*9*9...                  10.1   \n",
       "4  ?9?9?9?9E0?9?9?9?9*9?9?9?9?9?9?9?9?9?9*_*9*9*9...                   9.4   \n",
       "\n",
       "   Dew_Point_Temperature  Relative_Humidity ...   Present_Weather_Codes  \\\n",
       "0                   10.7               92.6 ...               999999999   \n",
       "1                    7.4               76.1 ...               999999999   \n",
       "2                    6.0               73.3 ...               999999999   \n",
       "3                    8.6               90.3 ...               999999999   \n",
       "4                    6.0               79.2 ...               999999999   \n",
       "\n",
       "   Precipitable_Water  Aerosol_Optical_Depth  Snow_Depth  \\\n",
       "0                 200                    0.0           0   \n",
       "1                 160                    0.0           0   \n",
       "2                 139                    0.0           0   \n",
       "3                 170                    0.0           0   \n",
       "4                 139                    0.0           0   \n",
       "\n",
       "   Days_Since_Last_Snowfall  Albedo  Liquid_Precipitation_Depth  \\\n",
       "0                        88   999.0                         0.0   \n",
       "1                        88   999.0                         0.0   \n",
       "2                        88   999.0                         0.0   \n",
       "3                        88   999.0                         0.0   \n",
       "4                        88   999.0                         0.0   \n",
       "\n",
       "   Liquid_Precipitation_Quantity            datetime  doy  \n",
       "0                            0.0 2017-01-01 00:00:00    1  \n",
       "1                            0.0 2017-01-01 01:00:00    1  \n",
       "2                            0.0 2017-01-01 02:00:00    1  \n",
       "3                            0.0 2017-01-01 03:00:00    1  \n",
       "4                            0.0 2017-01-01 04:00:00    1  \n",
       "\n",
       "[5 rows x 38 columns]"
      ]
     },
     "execution_count": 12,
     "metadata": {},
     "output_type": "execute_result"
    }
   ],
   "source": [
    "df_urban = epw_to_df(urban_epw_file)\n",
    "\n",
    "df_urban['datetime'] = df_urban.apply(lambda row: get_datetime(row), axis=1)\n",
    "df_urban['doy'] = df_urban.apply(lambda row: get_doy(row), axis=1)\n",
    "\n",
    "df_urban.head()"
   ]
  },
  {
   "cell_type": "markdown",
   "metadata": {},
   "source": [
    "### Diff Analysis\n",
    "\n",
    "The UWG simulation only impacts the following EPW metrics:\n",
    "* Dry_Bulb_Temperature\n",
    "* Dew_Point_Temperature\n",
    "* Relative_Humidity\n",
    "* Wind_Speed\n",
    "\n",
    "We will drop all other measurements and only substract the value we are interested as shown below:"
   ]
  },
  {
   "cell_type": "code",
   "execution_count": 13,
   "metadata": {},
   "outputs": [
    {
     "name": "stderr",
     "output_type": "stream",
     "text": [
      "/home/kakistocrat/.local/lib/python3.6/site-packages/pandas/core/frame.py:2352: SettingWithCopyWarning: \n",
      "A value is trying to be set on a copy of a slice from a DataFrame.\n",
      "Try using .loc[row_indexer,col_indexer] = value instead\n",
      "\n",
      "See the caveats in the documentation: http://pandas.pydata.org/pandas-docs/stable/indexing.html#indexing-view-versus-copy\n",
      "  self[k1] = value[k2]\n"
     ]
    },
    {
     "data": {
      "text/html": [
       "<div>\n",
       "<style>\n",
       "    .dataframe thead tr:only-child th {\n",
       "        text-align: right;\n",
       "    }\n",
       "\n",
       "    .dataframe thead th {\n",
       "        text-align: left;\n",
       "    }\n",
       "\n",
       "    .dataframe tbody tr th {\n",
       "        vertical-align: top;\n",
       "    }\n",
       "</style>\n",
       "<table border=\"1\" class=\"dataframe\">\n",
       "  <thead>\n",
       "    <tr style=\"text-align: right;\">\n",
       "      <th></th>\n",
       "      <th>Hour</th>\n",
       "      <th>datetime</th>\n",
       "      <th>doy</th>\n",
       "      <th>Dry_Bulb_Temperature</th>\n",
       "      <th>Dew_Point_Temperature</th>\n",
       "      <th>Relative_Humidity</th>\n",
       "      <th>Wind_Speed</th>\n",
       "    </tr>\n",
       "  </thead>\n",
       "  <tbody>\n",
       "    <tr>\n",
       "      <th>0</th>\n",
       "      <td>1</td>\n",
       "      <td>2017-01-01 00:00:00</td>\n",
       "      <td>1</td>\n",
       "      <td>0.2</td>\n",
       "      <td>0.0</td>\n",
       "      <td>-1.4</td>\n",
       "      <td>0.0</td>\n",
       "    </tr>\n",
       "    <tr>\n",
       "      <th>1</th>\n",
       "      <td>2</td>\n",
       "      <td>2017-01-01 01:00:00</td>\n",
       "      <td>1</td>\n",
       "      <td>2.5</td>\n",
       "      <td>0.0</td>\n",
       "      <td>-13.9</td>\n",
       "      <td>0.0</td>\n",
       "    </tr>\n",
       "    <tr>\n",
       "      <th>2</th>\n",
       "      <td>3</td>\n",
       "      <td>2017-01-01 02:00:00</td>\n",
       "      <td>1</td>\n",
       "      <td>3.5</td>\n",
       "      <td>0.0</td>\n",
       "      <td>-19.7</td>\n",
       "      <td>0.0</td>\n",
       "    </tr>\n",
       "    <tr>\n",
       "      <th>3</th>\n",
       "      <td>4</td>\n",
       "      <td>2017-01-01 03:00:00</td>\n",
       "      <td>1</td>\n",
       "      <td>0.3</td>\n",
       "      <td>0.0</td>\n",
       "      <td>-1.7</td>\n",
       "      <td>0.0</td>\n",
       "    </tr>\n",
       "    <tr>\n",
       "      <th>4</th>\n",
       "      <td>5</td>\n",
       "      <td>2017-01-01 04:00:00</td>\n",
       "      <td>1</td>\n",
       "      <td>2.4</td>\n",
       "      <td>0.0</td>\n",
       "      <td>-13.8</td>\n",
       "      <td>0.0</td>\n",
       "    </tr>\n",
       "  </tbody>\n",
       "</table>\n",
       "</div>"
      ],
      "text/plain": [
       "   Hour            datetime  doy  Dry_Bulb_Temperature  Dew_Point_Temperature  \\\n",
       "0     1 2017-01-01 00:00:00    1                   0.2                    0.0   \n",
       "1     2 2017-01-01 01:00:00    1                   2.5                    0.0   \n",
       "2     3 2017-01-01 02:00:00    1                   3.5                    0.0   \n",
       "3     4 2017-01-01 03:00:00    1                   0.3                    0.0   \n",
       "4     5 2017-01-01 04:00:00    1                   2.4                    0.0   \n",
       "\n",
       "   Relative_Humidity  Wind_Speed  \n",
       "0               -1.4         0.0  \n",
       "1              -13.9         0.0  \n",
       "2              -19.7         0.0  \n",
       "3               -1.7         0.0  \n",
       "4              -13.8         0.0  "
      ]
     },
     "execution_count": 13,
     "metadata": {},
     "output_type": "execute_result"
    }
   ],
   "source": [
    "impacted_measurements = ['Dry_Bulb_Temperature',\n",
    "                         'Dew_Point_Temperature',\n",
    "                         'Relative_Humidity',\n",
    "                         'Wind_Speed']\n",
    "\n",
    "diff = df_original[['Hour','datetime' ,'doy']]\n",
    "\n",
    "diff[impacted_measurements] = df_urban[impacted_measurements] - df_original[impacted_measurements]\n",
    "\n",
    "diff.head()"
   ]
  },
  {
   "cell_type": "markdown",
   "metadata": {},
   "source": [
    "We can then run a quick aggregation to measure the amount of difference between the two EPWs. The code snippet below demonstrates how run a quick statistical study of monthly aggregations. Here is a list of initial observations:\n",
    "* Maximum `Dry Bulb Temperature` difference of 10C in May\n",
    "* Mean increase in `Dry Bulb Temperature` is between 0.6C and 1C throughout the year\n",
    "* `Dew Point Temperature` and `Wind Speed` are not much affected by the urban model\n",
    "* `Relative Humidity` is generally a bit lower by roughly 4%"
   ]
  },
  {
   "cell_type": "code",
   "execution_count": 14,
   "metadata": {},
   "outputs": [
    {
     "data": {
      "text/html": [
       "<div>\n",
       "<style>\n",
       "    .dataframe thead tr:only-child th {\n",
       "        text-align: right;\n",
       "    }\n",
       "\n",
       "    .dataframe thead th {\n",
       "        text-align: left;\n",
       "    }\n",
       "\n",
       "    .dataframe tbody tr th {\n",
       "        vertical-align: top;\n",
       "    }\n",
       "</style>\n",
       "<table border=\"1\" class=\"dataframe\">\n",
       "  <thead>\n",
       "    <tr>\n",
       "      <th></th>\n",
       "      <th colspan=\"4\" halign=\"left\">Dry_Bulb_Temperature</th>\n",
       "      <th colspan=\"4\" halign=\"left\">Dew_Point_Temperature</th>\n",
       "      <th colspan=\"4\" halign=\"left\">Relative_Humidity</th>\n",
       "      <th colspan=\"4\" halign=\"left\">Wind_Speed</th>\n",
       "    </tr>\n",
       "    <tr>\n",
       "      <th></th>\n",
       "      <th>mean</th>\n",
       "      <th>median</th>\n",
       "      <th>min</th>\n",
       "      <th>max</th>\n",
       "      <th>mean</th>\n",
       "      <th>median</th>\n",
       "      <th>min</th>\n",
       "      <th>max</th>\n",
       "      <th>mean</th>\n",
       "      <th>median</th>\n",
       "      <th>min</th>\n",
       "      <th>max</th>\n",
       "      <th>mean</th>\n",
       "      <th>median</th>\n",
       "      <th>min</th>\n",
       "      <th>max</th>\n",
       "    </tr>\n",
       "    <tr>\n",
       "      <th>datetime</th>\n",
       "      <th></th>\n",
       "      <th></th>\n",
       "      <th></th>\n",
       "      <th></th>\n",
       "      <th></th>\n",
       "      <th></th>\n",
       "      <th></th>\n",
       "      <th></th>\n",
       "      <th></th>\n",
       "      <th></th>\n",
       "      <th></th>\n",
       "      <th></th>\n",
       "      <th></th>\n",
       "      <th></th>\n",
       "      <th></th>\n",
       "      <th></th>\n",
       "    </tr>\n",
       "  </thead>\n",
       "  <tbody>\n",
       "    <tr>\n",
       "      <th>2017-01-31</th>\n",
       "      <td>0.688038</td>\n",
       "      <td>0.3</td>\n",
       "      <td>-3.9</td>\n",
       "      <td>7.3</td>\n",
       "      <td>0.048387</td>\n",
       "      <td>0.00</td>\n",
       "      <td>-0.2</td>\n",
       "      <td>0.2</td>\n",
       "      <td>-3.538575</td>\n",
       "      <td>-1.30</td>\n",
       "      <td>-35.5</td>\n",
       "      <td>19.3</td>\n",
       "      <td>0.086694</td>\n",
       "      <td>0.0</td>\n",
       "      <td>0.0</td>\n",
       "      <td>1.0</td>\n",
       "    </tr>\n",
       "    <tr>\n",
       "      <th>2017-02-28</th>\n",
       "      <td>0.658929</td>\n",
       "      <td>0.3</td>\n",
       "      <td>-3.9</td>\n",
       "      <td>5.5</td>\n",
       "      <td>0.046577</td>\n",
       "      <td>0.00</td>\n",
       "      <td>-0.6</td>\n",
       "      <td>0.2</td>\n",
       "      <td>-3.426488</td>\n",
       "      <td>-1.50</td>\n",
       "      <td>-26.3</td>\n",
       "      <td>20.9</td>\n",
       "      <td>0.096726</td>\n",
       "      <td>0.0</td>\n",
       "      <td>0.0</td>\n",
       "      <td>1.0</td>\n",
       "    </tr>\n",
       "    <tr>\n",
       "      <th>2017-03-31</th>\n",
       "      <td>0.939382</td>\n",
       "      <td>0.5</td>\n",
       "      <td>-3.4</td>\n",
       "      <td>7.4</td>\n",
       "      <td>0.059812</td>\n",
       "      <td>0.10</td>\n",
       "      <td>-0.1</td>\n",
       "      <td>0.4</td>\n",
       "      <td>-4.764651</td>\n",
       "      <td>-2.10</td>\n",
       "      <td>-31.3</td>\n",
       "      <td>14.4</td>\n",
       "      <td>0.141129</td>\n",
       "      <td>0.0</td>\n",
       "      <td>0.0</td>\n",
       "      <td>1.0</td>\n",
       "    </tr>\n",
       "    <tr>\n",
       "      <th>2017-04-30</th>\n",
       "      <td>0.975139</td>\n",
       "      <td>0.4</td>\n",
       "      <td>-3.9</td>\n",
       "      <td>5.6</td>\n",
       "      <td>0.067222</td>\n",
       "      <td>0.10</td>\n",
       "      <td>-0.2</td>\n",
       "      <td>0.4</td>\n",
       "      <td>-4.568889</td>\n",
       "      <td>-1.70</td>\n",
       "      <td>-26.5</td>\n",
       "      <td>12.1</td>\n",
       "      <td>0.232639</td>\n",
       "      <td>0.0</td>\n",
       "      <td>0.0</td>\n",
       "      <td>1.0</td>\n",
       "    </tr>\n",
       "    <tr>\n",
       "      <th>2017-05-31</th>\n",
       "      <td>1.083065</td>\n",
       "      <td>0.4</td>\n",
       "      <td>-2.9</td>\n",
       "      <td>10.1</td>\n",
       "      <td>0.053629</td>\n",
       "      <td>0.05</td>\n",
       "      <td>-0.4</td>\n",
       "      <td>0.3</td>\n",
       "      <td>-4.540457</td>\n",
       "      <td>-1.70</td>\n",
       "      <td>-39.3</td>\n",
       "      <td>11.4</td>\n",
       "      <td>0.057392</td>\n",
       "      <td>0.0</td>\n",
       "      <td>0.0</td>\n",
       "      <td>1.0</td>\n",
       "    </tr>\n",
       "    <tr>\n",
       "      <th>2017-06-30</th>\n",
       "      <td>0.738056</td>\n",
       "      <td>0.4</td>\n",
       "      <td>-2.5</td>\n",
       "      <td>5.6</td>\n",
       "      <td>0.047917</td>\n",
       "      <td>0.00</td>\n",
       "      <td>-0.3</td>\n",
       "      <td>0.4</td>\n",
       "      <td>-2.955694</td>\n",
       "      <td>-1.25</td>\n",
       "      <td>-21.2</td>\n",
       "      <td>10.7</td>\n",
       "      <td>0.127083</td>\n",
       "      <td>0.0</td>\n",
       "      <td>0.0</td>\n",
       "      <td>1.0</td>\n",
       "    </tr>\n",
       "    <tr>\n",
       "      <th>2017-07-31</th>\n",
       "      <td>1.007527</td>\n",
       "      <td>0.5</td>\n",
       "      <td>-2.5</td>\n",
       "      <td>8.4</td>\n",
       "      <td>0.024059</td>\n",
       "      <td>0.00</td>\n",
       "      <td>-0.2</td>\n",
       "      <td>0.4</td>\n",
       "      <td>-4.213575</td>\n",
       "      <td>-1.55</td>\n",
       "      <td>-38.4</td>\n",
       "      <td>8.1</td>\n",
       "      <td>0.072984</td>\n",
       "      <td>0.0</td>\n",
       "      <td>0.0</td>\n",
       "      <td>1.0</td>\n",
       "    </tr>\n",
       "    <tr>\n",
       "      <th>2017-08-31</th>\n",
       "      <td>0.838978</td>\n",
       "      <td>0.6</td>\n",
       "      <td>-3.6</td>\n",
       "      <td>7.6</td>\n",
       "      <td>0.023925</td>\n",
       "      <td>0.00</td>\n",
       "      <td>-0.2</td>\n",
       "      <td>0.3</td>\n",
       "      <td>-3.313306</td>\n",
       "      <td>-2.00</td>\n",
       "      <td>-28.5</td>\n",
       "      <td>8.3</td>\n",
       "      <td>0.077957</td>\n",
       "      <td>0.0</td>\n",
       "      <td>0.0</td>\n",
       "      <td>1.0</td>\n",
       "    </tr>\n",
       "    <tr>\n",
       "      <th>2017-09-30</th>\n",
       "      <td>0.842917</td>\n",
       "      <td>0.5</td>\n",
       "      <td>-2.4</td>\n",
       "      <td>5.7</td>\n",
       "      <td>0.020694</td>\n",
       "      <td>0.00</td>\n",
       "      <td>-0.2</td>\n",
       "      <td>0.3</td>\n",
       "      <td>-3.799861</td>\n",
       "      <td>-2.10</td>\n",
       "      <td>-23.6</td>\n",
       "      <td>9.0</td>\n",
       "      <td>0.211806</td>\n",
       "      <td>0.0</td>\n",
       "      <td>0.0</td>\n",
       "      <td>1.0</td>\n",
       "    </tr>\n",
       "    <tr>\n",
       "      <th>2017-10-31</th>\n",
       "      <td>0.821505</td>\n",
       "      <td>0.6</td>\n",
       "      <td>-4.0</td>\n",
       "      <td>4.5</td>\n",
       "      <td>0.044489</td>\n",
       "      <td>0.00</td>\n",
       "      <td>-0.1</td>\n",
       "      <td>0.3</td>\n",
       "      <td>-3.926478</td>\n",
       "      <td>-2.10</td>\n",
       "      <td>-19.8</td>\n",
       "      <td>15.9</td>\n",
       "      <td>0.190860</td>\n",
       "      <td>0.0</td>\n",
       "      <td>0.0</td>\n",
       "      <td>1.0</td>\n",
       "    </tr>\n",
       "    <tr>\n",
       "      <th>2017-11-30</th>\n",
       "      <td>0.692222</td>\n",
       "      <td>0.4</td>\n",
       "      <td>-3.4</td>\n",
       "      <td>5.0</td>\n",
       "      <td>0.029444</td>\n",
       "      <td>0.00</td>\n",
       "      <td>-0.7</td>\n",
       "      <td>0.3</td>\n",
       "      <td>-3.364306</td>\n",
       "      <td>-1.80</td>\n",
       "      <td>-20.3</td>\n",
       "      <td>14.3</td>\n",
       "      <td>0.068194</td>\n",
       "      <td>0.0</td>\n",
       "      <td>0.0</td>\n",
       "      <td>1.0</td>\n",
       "    </tr>\n",
       "    <tr>\n",
       "      <th>2017-12-31</th>\n",
       "      <td>0.629167</td>\n",
       "      <td>0.2</td>\n",
       "      <td>-3.7</td>\n",
       "      <td>6.6</td>\n",
       "      <td>0.052419</td>\n",
       "      <td>0.00</td>\n",
       "      <td>-0.1</td>\n",
       "      <td>0.3</td>\n",
       "      <td>-3.234140</td>\n",
       "      <td>-1.00</td>\n",
       "      <td>-30.8</td>\n",
       "      <td>16.8</td>\n",
       "      <td>0.043683</td>\n",
       "      <td>0.0</td>\n",
       "      <td>0.0</td>\n",
       "      <td>1.0</td>\n",
       "    </tr>\n",
       "  </tbody>\n",
       "</table>\n",
       "</div>"
      ],
      "text/plain": [
       "           Dry_Bulb_Temperature                   Dew_Point_Temperature  \\\n",
       "                           mean median  min   max                  mean   \n",
       "datetime                                                                  \n",
       "2017-01-31             0.688038    0.3 -3.9   7.3              0.048387   \n",
       "2017-02-28             0.658929    0.3 -3.9   5.5              0.046577   \n",
       "2017-03-31             0.939382    0.5 -3.4   7.4              0.059812   \n",
       "2017-04-30             0.975139    0.4 -3.9   5.6              0.067222   \n",
       "2017-05-31             1.083065    0.4 -2.9  10.1              0.053629   \n",
       "2017-06-30             0.738056    0.4 -2.5   5.6              0.047917   \n",
       "2017-07-31             1.007527    0.5 -2.5   8.4              0.024059   \n",
       "2017-08-31             0.838978    0.6 -3.6   7.6              0.023925   \n",
       "2017-09-30             0.842917    0.5 -2.4   5.7              0.020694   \n",
       "2017-10-31             0.821505    0.6 -4.0   4.5              0.044489   \n",
       "2017-11-30             0.692222    0.4 -3.4   5.0              0.029444   \n",
       "2017-12-31             0.629167    0.2 -3.7   6.6              0.052419   \n",
       "\n",
       "                            Relative_Humidity                    Wind_Speed  \\\n",
       "           median  min  max              mean median   min   max       mean   \n",
       "datetime                                                                      \n",
       "2017-01-31   0.00 -0.2  0.2         -3.538575  -1.30 -35.5  19.3   0.086694   \n",
       "2017-02-28   0.00 -0.6  0.2         -3.426488  -1.50 -26.3  20.9   0.096726   \n",
       "2017-03-31   0.10 -0.1  0.4         -4.764651  -2.10 -31.3  14.4   0.141129   \n",
       "2017-04-30   0.10 -0.2  0.4         -4.568889  -1.70 -26.5  12.1   0.232639   \n",
       "2017-05-31   0.05 -0.4  0.3         -4.540457  -1.70 -39.3  11.4   0.057392   \n",
       "2017-06-30   0.00 -0.3  0.4         -2.955694  -1.25 -21.2  10.7   0.127083   \n",
       "2017-07-31   0.00 -0.2  0.4         -4.213575  -1.55 -38.4   8.1   0.072984   \n",
       "2017-08-31   0.00 -0.2  0.3         -3.313306  -2.00 -28.5   8.3   0.077957   \n",
       "2017-09-30   0.00 -0.2  0.3         -3.799861  -2.10 -23.6   9.0   0.211806   \n",
       "2017-10-31   0.00 -0.1  0.3         -3.926478  -2.10 -19.8  15.9   0.190860   \n",
       "2017-11-30   0.00 -0.7  0.3         -3.364306  -1.80 -20.3  14.3   0.068194   \n",
       "2017-12-31   0.00 -0.1  0.3         -3.234140  -1.00 -30.8  16.8   0.043683   \n",
       "\n",
       "                             \n",
       "           median  min  max  \n",
       "datetime                     \n",
       "2017-01-31    0.0  0.0  1.0  \n",
       "2017-02-28    0.0  0.0  1.0  \n",
       "2017-03-31    0.0  0.0  1.0  \n",
       "2017-04-30    0.0  0.0  1.0  \n",
       "2017-05-31    0.0  0.0  1.0  \n",
       "2017-06-30    0.0  0.0  1.0  \n",
       "2017-07-31    0.0  0.0  1.0  \n",
       "2017-08-31    0.0  0.0  1.0  \n",
       "2017-09-30    0.0  0.0  1.0  \n",
       "2017-10-31    0.0  0.0  1.0  \n",
       "2017-11-30    0.0  0.0  1.0  \n",
       "2017-12-31    0.0  0.0  1.0  "
      ]
     },
     "execution_count": 14,
     "metadata": {},
     "output_type": "execute_result"
    }
   ],
   "source": [
    "diff.groupby(pd.Grouper(key='datetime', freq='M'))['Dry_Bulb_Temperature',\n",
    "                                                   'Dew_Point_Temperature',\n",
    "                                                   'Relative_Humidity',\n",
    "                                                   'Wind_Speed'].agg(['mean', 'median', 'min', 'max'])"
   ]
  },
  {
   "cell_type": "markdown",
   "metadata": {},
   "source": [
    "### Data Visualisation (!!)\n",
    "You have now made it through the more tedious number examination section, it's time for a data visualisation reward. Those of you using Ladybug in Grasshopper will recognise the beloved `Yearly Heatmap plot` which we use below to visualise `Dry Bulb Temperature` and `Relative Humidity`. We focus on these two metrics because we have already observed that the other two are not much affected by the urban model."
   ]
  },
  {
   "cell_type": "markdown",
   "metadata": {},
   "source": [
    "#### Dry Bulb Temperature\n",
    "\n",
    "We notice that throughout the summer months the urban model pushes temperatures close to 30C much later into the evening and increases the occurence of more extreme temperatures. The diff plot also shows us an interesting seasonality pattern whereby the difference in temperature is least earlier in the morning during Summer."
   ]
  },
  {
   "cell_type": "code",
   "execution_count": 15,
   "metadata": {},
   "outputs": [
    {
     "data": {
      "image/png": "[encoded data removed]",
      "text/plain": [
       "<matplotlib.figure.Figure at 0x7f6047a62a90>"
      ]
     },
     "metadata": {
      "needs_background": "light"
     },
     "output_type": "display_data"
    }
   ],
   "source": [
    "yearly_heatmap_plot(df_original, 'Dry_Bulb_Temperature', 'Original EPW Dry Bulb Temperature')"
   ]
  },
  {
   "cell_type": "code",
   "execution_count": 16,
   "metadata": {},
   "outputs": [
    {
     "data": {
      "image/png": "[encoded data removed]",
      "text/plain": [
       "<matplotlib.figure.Figure at 0x7f6047a626d8>"
      ]
     },
     "metadata": {
      "needs_background": "light"
     },
     "output_type": "display_data"
    }
   ],
   "source": [
    "yearly_heatmap_plot(df_urban, 'Dry_Bulb_Temperature', 'Urban Dry Bulb Temperature')"
   ]
  },
  {
   "cell_type": "code",
   "execution_count": 17,
   "metadata": {},
   "outputs": [
    {
     "data": {
      "image/png": "[encoded data removed]",
      "text/plain": [
       "<matplotlib.figure.Figure at 0x7f604763b3c8>"
      ]
     },
     "metadata": {
      "needs_background": "light"
     },
     "output_type": "display_data"
    }
   ],
   "source": [
    "yearly_heatmap_plot(diff, 'Dry_Bulb_Temperature', 'Difference between Original and Urban Dry Bulb Temperature')"
   ]
  },
  {
   "cell_type": "markdown",
   "metadata": {},
   "source": [
    "#### Relative Humidity\n",
    "\n",
    "The impact of the Urban environment on `Relative Humidity` also follows a seasonal pattern whereby Summers are distinctly drier, especially once the sun has set."
   ]
  },
  {
   "cell_type": "code",
   "execution_count": 18,
   "metadata": {},
   "outputs": [
    {
     "data": {
      "image/png": "[encoded data removed]",
      "text/plain": [
       "<matplotlib.figure.Figure at 0x7f6047451d68>"
      ]
     },
     "metadata": {
      "needs_background": "light"
     },
     "output_type": "display_data"
    }
   ],
   "source": [
    "yearly_heatmap_plot(df_original, 'Relative_Humidity', 'Original EPW Relative Humidity')"
   ]
  },
  {
   "cell_type": "code",
   "execution_count": 19,
   "metadata": {},
   "outputs": [
    {
     "data": {
      "image/png": "[encoded data removed]",
      "text/plain": [
       "<matplotlib.figure.Figure at 0x7f60451aa828>"
      ]
     },
     "metadata": {
      "needs_background": "light"
     },
     "output_type": "display_data"
    }
   ],
   "source": [
    "yearly_heatmap_plot(df_urban, 'Relative_Humidity', 'Urban Relative Humidity')"
   ]
  },
  {
   "cell_type": "code",
   "execution_count": 20,
   "metadata": {},
   "outputs": [
    {
     "data": {
      "image/png": "[encoded data removed]",
      "text/plain": [
       "<matplotlib.figure.Figure at 0x7f6045211dd8>"
      ]
     },
     "metadata": {
      "needs_background": "light"
     },
     "output_type": "display_data"
    }
   ],
   "source": [
    "yearly_heatmap_plot(diff, 'Relative_Humidity', 'Difference between Original and Urban Relative Humidity')"
   ]
  },
  {
   "cell_type": "markdown",
   "metadata": {},
   "source": [
    "## Wrapping it up\n",
    "\n",
    "And that's us done folks. Hope you enjoyed the tutorial and look forward to showing you more of this stuff in Part 2 of this tutorial series where we will be running a parametric study using Dragonfly to inform urban design."
   ]
  }
 ],
 "metadata": {
  "kernelspec": {
   "display_name": "Python 3",
   "language": "python",
   "name": "python3"
  },
  "language_info": {
   "codemirror_mode": {
    "name": "ipython",
    "version": 3
   },
   "file_extension": ".py",
   "mimetype": "text/x-python",
   "name": "python",
   "nbconvert_exporter": "python",
   "pygments_lexer": "ipython3",
   "version": "3.6.6"
  }
 },
 "nbformat": 4,
 "nbformat_minor": 2
}
